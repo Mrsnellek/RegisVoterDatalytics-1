{
  "nbformat": 4,
  "nbformat_minor": 0,
  "metadata": {
    "colab": {
      "name": "Prediction_SwitchPartyWithDummyData",
      "version": "0.3.2",
      "provenance": []
    },
    "kernelspec": {
      "name": "python3",
      "display_name": "Python 3"
    }
  },
  "cells": [
    {
      "cell_type": "markdown",
      "metadata": {
        "id": "uFwmaK8bkudj",
        "colab_type": "text"
      },
      "source": [
        "##Parallel Predictions\n",
        "\n",
        "The two sets of dummy data are showing survey results from 2 campaign strategies. Comparing to the baseline from current strategies<br>\n",
        "Set A wins more democratic to switch party by 2%, but loses 8% more latino and asian voters*. <br>\n",
        "Set B is more preferrable by 5% of African Americans*, but 1% of current republicans will not vote for it. <br>\n",
        "\n",
        "Which strategy should Republicans choose? Which location or racial group should we target with limited resource?\n",
        "\n",
        "*Data adjustement: \n",
        "Baseline: DEM=RAND()*0.003; REP= RAND()*0.003+0.997\n",
        "Set A: DEM=RAND()*0.003*1.02; REP= RAND()*0.003+0.997; applying a factor of 0.92 for Asian, Latino and Mixed racial groups. <br>\n",
        "Set B: DEM=RAND()*0.003; REP= (RAND()*0.003+0.997)*0.99; applying a factor of 1.05 for the African American group."
      ]
    },
    {
      "cell_type": "code",
      "metadata": {
        "id": "gzMHT0wovuns",
        "colab_type": "code",
        "outputId": "daf663f3-c978-4031-e762-5ed1a2cfe3a0",
        "colab": {
          "base_uri": "https://localhost:8080/",
          "height": 122
        }
      },
      "source": [
        "## Initialize\n",
        "import numpy as np\n",
        "import pandas as pd\n",
        "import time\n",
        "from google.colab import drive\n",
        "drive.mount('/content/gdrive')"
      ],
      "execution_count": 0,
      "outputs": [
        {
          "output_type": "stream",
          "text": [
            "Go to this URL in a browser: https://accounts.google.com/o/oauth2/auth?client_id=947318989803-6bn6qk8qdgf4n4g3pfee6491hc0brc4i.apps.googleusercontent.com&redirect_uri=urn%3Aietf%3Awg%3Aoauth%3A2.0%3Aoob&scope=email%20https%3A%2F%2Fwww.googleapis.com%2Fauth%2Fdocs.test%20https%3A%2F%2Fwww.googleapis.com%2Fauth%2Fdrive%20https%3A%2F%2Fwww.googleapis.com%2Fauth%2Fdrive.photos.readonly%20https%3A%2F%2Fwww.googleapis.com%2Fauth%2Fpeopleapi.readonly&response_type=code\n",
            "\n",
            "Enter your authorization code:\n",
            "··········\n",
            "Mounted at /content/gdrive\n"
          ],
          "name": "stdout"
        }
      ]
    },
    {
      "cell_type": "code",
      "metadata": {
        "id": "aG9d0lhz3Wh9",
        "colab_type": "code",
        "outputId": "e0860a02-a8b2-4605-dbb5-bc9d431b994f",
        "colab": {
          "base_uri": "https://localhost:8080/",
          "height": 391
        }
      },
      "source": [
        "## Load data\n",
        "filename='gdrive/My Drive/Project/GoCode 2019/Go Code - Regis Voter/Data/Clean datasets/Denver_Voters_Master_Compact_2019.csv'\n",
        "filename_A='gdrive/My Drive/Project/GoCode 2019/Go Code - Regis Voter/Data/Clean datasets/Dummy Data/Dummy A.csv'\n",
        "filename_B='gdrive/My Drive/Project/GoCode 2019/Go Code - Regis Voter/Data/Clean datasets/Dummy Data/Dummy B.csv'\n",
        "df = pd.read_csv(filename,dtype={'VoterID':str,'Tract-CensusBlock':str})\n",
        "df_A = pd.read_csv(filename_A)\n",
        "df_B = pd.read_csv(filename_B)\n",
        "### EDA with dummy data to spot the data architecture\n",
        "print(df.head(),df_A.shape,df_A.head(),df_B.head())"
      ],
      "execution_count": 0,
      "outputs": [
        {
          "output_type": "stream",
          "text": [
            "                  Address  ...  Tract-CensusBlock\n",
            "0          161 S GROVE ST  ...    1080310009032.0\n",
            "1           44 N PEARL ST  ...    1080310028034.0\n",
            "2  8101 E MISSISSIPPI AVE  ...    1080310070883.0\n",
            "3         7101 W YALE AVE  ...    1080310119031.0\n",
            "4         7101 W YALE AVE  ...    1080310119031.0\n",
            "\n",
            "[5 rows x 14 columns] (909, 9)    Age Gender  ... Poss2OrMoreRaces  PossHispanicOrLatinoOrigin\n",
            "0   18      F  ...           0.0023                      0.0003\n",
            "1   19      F  ...           0.0012                      0.0015\n",
            "2   20      F  ...           0.0016                      0.0004\n",
            "3   21      F  ...           0.0020                      0.0011\n",
            "4   22      F  ...           0.0021                      0.0001\n",
            "\n",
            "[5 rows x 9 columns]    Age Gender  ... Poss2OrMoreRaces  PossHispanicOrLatinoOrigin\n",
            "0   18      F  ...           0.0022                      0.0029\n",
            "1   19      F  ...           0.0026                      0.0002\n",
            "2   20      F  ...           0.0003                      0.0028\n",
            "3   21      F  ...           0.0009                      0.0004\n",
            "4   22      F  ...           0.0015                      0.0012\n",
            "\n",
            "[5 rows x 9 columns]\n"
          ],
          "name": "stdout"
        }
      ]
    },
    {
      "cell_type": "code",
      "metadata": {
        "id": "vcDcIz7G32Ay",
        "colab_type": "code",
        "outputId": "920c26ae-3728-44a6-d696-ad550350e419",
        "colab": {
          "base_uri": "https://localhost:8080/",
          "height": 68
        }
      },
      "source": [
        "## Calculate possibility to switch party with dummy datasets.\n",
        "df_new=pd.merge(df,df_A,how='left',left_on=['Age','Gender','Party'], right_on=['Age','Gender','OriginalParty'])\n",
        "df['PossA']= df['PercentWhiteAlone']*df_new['PossWhiteAlone']+df['PercentBlackOrAfricanAmericanAlone']*df_new['PossBlackOrAfricanAmericanAlone']+df['PercentAsianAndNativeHawaiianAndOtherPacificIslanderAlone']*df_new['PossAsianAndNativeHawaiianAndOtherPacificIslanderAlone']+df['PercentAmericanIndianAndAlaskaNativeAlone']*df_new['PossAmericanIndianAndAlaskaNativeAlone']+df['Percent2OrMoreRaces']*df_new['Poss2OrMoreRaces']+df['PercentHispanicOrLatinoOrigin']*df_new['PossHispanicOrLatinoOrigin']\n",
        "df_new=pd.merge(df,df_B,how='left',left_on=['Age','Gender','Party'], right_on=['Age','Gender','OriginalParty'])\n",
        "df['PossB']= df['PercentWhiteAlone']*df_new['PossWhiteAlone']+df['PercentBlackOrAfricanAmericanAlone']*df_new['PossBlackOrAfricanAmericanAlone']+df['PercentAsianAndNativeHawaiianAndOtherPacificIslanderAlone']*df_new['PossAsianAndNativeHawaiianAndOtherPacificIslanderAlone']+df['PercentAmericanIndianAndAlaskaNativeAlone']*df_new['PossAmericanIndianAndAlaskaNativeAlone']+df['Percent2OrMoreRaces']*df_new['Poss2OrMoreRaces']+df['PercentHispanicOrLatinoOrigin']*df_new['PossHispanicOrLatinoOrigin']\n",
        "print('Prediction:','\\n','Result for Strategy A - ',round(df['PossA'].sum()/100),'\\n','Result for Strategy B - ',round(df['PossB'].sum()/100))\n"
      ],
      "execution_count": 0,
      "outputs": [
        {
          "output_type": "stream",
          "text": [
            "Prediction: \n",
            " Result for Strategy A -  52973.0 \n",
            " Result for Strategy B -  53063.0\n"
          ],
          "name": "stdout"
        }
      ]
    },
    {
      "cell_type": "markdown",
      "metadata": {
        "id": "f6wZjP2v5NCG",
        "colab_type": "text"
      },
      "source": [
        "It seems Strategy B is a little bit better than A."
      ]
    },
    {
      "cell_type": "code",
      "metadata": {
        "id": "bslp1PA880C_",
        "colab_type": "code",
        "outputId": "3dc89a76-597a-4c2f-e8c1-a9c11707d97c",
        "colab": {
          "base_uri": "https://localhost:8080/",
          "height": 221
        }
      },
      "source": [
        "## For Strategy B, which locations or which racial groups is more important?\n",
        "LocationPoss=df[].groupby('Tract-CensusBlock').PossB.agg(np.mean)\n",
        "LocationPoss.sort_values(ascending=False).head(10)"
      ],
      "execution_count": 0,
      "outputs": [
        {
          "output_type": "execute_result",
          "data": {
            "text/plain": [
              "Tract-CensusBlock\n",
              "1080310120012.0    40.944586\n",
              "1080310120103.0    35.734482\n",
              "1080310032031.0    33.327075\n",
              "1080310068091.0    32.989889\n",
              "1080310120102.0    32.256721\n",
              "1080310040022.0    30.617563\n",
              "1080310120101.0    29.704050\n",
              "1080310055033.0    29.577435\n",
              "1080310039013.0    29.542976\n",
              "1080310040024.0    29.039773\n",
              "Name: PossB, dtype: float64"
            ]
          },
          "metadata": {
            "tags": []
          },
          "execution_count": 95
        }
      ]
    }
  ]
}