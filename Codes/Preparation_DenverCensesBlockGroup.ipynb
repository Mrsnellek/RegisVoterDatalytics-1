{
  "nbformat": 4,
  "nbformat_minor": 0,
  "metadata": {
    "colab": {
      "name": "Preparation_DenverCensesBlockGroup.ipynb",
      "version": "0.3.2",
      "provenance": []
    },
    "kernelspec": {
      "name": "python3",
      "display_name": "Python 3"
    }
  },
  "cells": [
    {
      "metadata": {
        "id": "psqp3vl3y4fY",
        "colab_type": "code",
        "outputId": "601bfcbc-11e9-4a2e-ff6d-10cb8f3aa641",
        "colab": {
          "base_uri": "https://localhost:8080/",
          "height": 121
        }
      },
      "cell_type": "code",
      "source": [
        "                                          ## Initialize\n",
        "!pip install geopandas\n",
        "\n",
        "import geopandas as gpd\n",
        "import numpy as np\n",
        "import pandas as pd\n",
        "import time\n",
        "\n",
        "from shapely.geometry import Point\n",
        "from shapely.geometry.polygon import Polygon\n",
        "from google.colab import drive\n",
        "drive.mount('/content/gdrive')"
      ],
      "execution_count": 0,
      "outputs": [
        {
          "output_type": "stream",
          "text": [
            "Go to this URL in a browser: https://accounts.google.com/o/oauth2/auth?client_id=947318989803-6bn6qk8qdgf4n4g3pfee6491hc0brc4i.apps.googleusercontent.com&redirect_uri=urn%3Aietf%3Awg%3Aoauth%3A2.0%3Aoob&scope=email%20https%3A%2F%2Fwww.googleapis.com%2Fauth%2Fdocs.test%20https%3A%2F%2Fwww.googleapis.com%2Fauth%2Fdrive%20https%3A%2F%2Fwww.googleapis.com%2Fauth%2Fdrive.photos.readonly%20https%3A%2F%2Fwww.googleapis.com%2Fauth%2Fpeopleapi.readonly&response_type=code\n",
            "\n",
            "Enter your authorization code:\n",
            "··········\n",
            "Mounted at /content/gdrive\n"
          ],
          "name": "stdout"
        }
      ]
    },
    {
      "metadata": {
        "id": "ZVVDdzScy4ff",
        "colab_type": "code",
        "outputId": "a6b97cad-5be2-4e50-85d5-00b3b3d90b08",
        "colab": {
          "base_uri": "https://localhost:8080/",
          "height": 622
        }
      },
      "cell_type": "code",
      "source": [
        "## Load data\n",
        "## https://data.colorado.gov/Demographics/Census-Blocks-in-Colorado-2010/xipb-k5bu\n",
        "workdir='gdrive/My Drive/Project/GoCode 2019/Go Code - Regis Voter/Data/Raw datasets/'\n",
        "df_cbg = gpd.read_file(workdir+'Census Block Groups in Colorado 2010.geojson')\n",
        "print(df_cbg.tail())"
      ],
      "execution_count": 0,
      "outputs": [
        {
          "output_type": "stream",
          "text": [
            "     pct_amind      intptlon households med_age occupied v_s_notocc white_nh  \\\n",
            "3527       0.4  -104.8419816      779.0    49.7    779.0        0.0   1169.0   \n",
            "3528      0.87  -104.7994864      613.0    34.0    613.0        0.0   1026.0   \n",
            "3529      0.43  -104.7965144      582.0    34.4    582.0        0.0    913.0   \n",
            "3530      0.59  -104.7962523      433.0    33.0    433.0        0.0    806.0   \n",
            "3531       0.7  -104.6895702      617.0    30.4    617.0        3.0   1224.0   \n",
            "\n",
            "     female state gq_o_noni  \\\n",
            "3527  938.0    08       0.0   \n",
            "3528  907.0    08       0.0   \n",
            "3529  822.0    08       0.0   \n",
            "3530  659.0    08       0.0   \n",
            "3531  922.0    08       0.0   \n",
            "\n",
            "                            ...                         gq_nurs  owner avg_hh  \\\n",
            "3527                        ...                             0.0  593.0   2.25   \n",
            "3528                        ...                             0.0  486.0    3.0   \n",
            "3529                        ...                             0.0  446.0   2.77   \n",
            "3530                        ...                             0.0  353.0   3.15   \n",
            "3531                        ...                             0.0  565.0   3.01   \n",
            "\n",
            "     pct_vac pct_65plus asian_nh age65plus hispanic husb_wife  \\\n",
            "3527   14.02      21.36     51.0     374.0    217.0     408.0   \n",
            "3528    3.01       7.07     54.0     130.0    415.0     360.0   \n",
            "3529    5.83       8.06     80.0     130.0    325.0     310.0   \n",
            "3530    2.04        6.6     18.0      90.0    387.0     255.0   \n",
            "3531    4.34       3.26    153.0      70.0    375.0     458.0   \n",
            "\n",
            "                                               geometry  \n",
            "3527  (POLYGON ((-104.8378220000001 39.6749990000000...  \n",
            "3528  (POLYGON ((-104.8099380000001 39.6688840000000...  \n",
            "3529  (POLYGON ((-104.7941300000001 39.6736700000000...  \n",
            "3530  (POLYGON ((-104.8024160000001 39.6655620000000...  \n",
            "3531  (POLYGON ((-104.6990000000001 39.6384390000000...  \n",
            "\n",
            "[5 rows x 77 columns]\n"
          ],
          "name": "stdout"
        }
      ]
    },
    {
      "metadata": {
        "id": "S3gWV4ixPs8w",
        "colab_type": "code",
        "colab": {}
      },
      "cell_type": "code",
      "source": [
        "## https://data.colorado.gov/Transportation/Counties-in-Colorado/67vn-ijga\n",
        "df_county =pd.read_csv(workdir+'COUNTIES.csv')\n",
        "df_county_clean = df_county[['COUNTY','CO_FIPS']]"
      ],
      "execution_count": 0,
      "outputs": []
    },
    {
      "metadata": {
        "id": "fdpO2LR0UQm9",
        "colab_type": "code",
        "outputId": "a13b5935-4b01-4bb7-82e5-f9edec609a3e",
        "colab": {
          "base_uri": "https://localhost:8080/",
          "height": 397
        }
      },
      "cell_type": "code",
      "source": [
        "#Format new CensusBlock columns\n",
        "df_cbg['Centroid']=df_cbg['geometry'].centroid\n",
        "df_cbg['Lon']=df_cbg['geometry'].centroid.x\n",
        "df_cbg['Lat']=df_cbg['geometry'].centroid.y\n",
        "df_cbg2 = df_cbg[['county','tract','blkgrp','geometry','Centroid','Lat','Lon']]\n",
        "df_cbg2['county'] = df_cbg2['county'].astype(int)\n",
        "df_cbg_clean = df_cbg2.merge(df_county_clean, left_on = \"county\", right_on = 'CO_FIPS')\n",
        "df_cbg_clean = df_cbg_clean.rename(index=str, columns={'COUNTY':'CountyName','tract':'Tract','geometry':'Geometry','blkgrp':'CensusBlockGroup'})\n",
        "df_cbg_clean = df_cbg_clean[df_cbg_clean['CountyName']=='DENVER'] #CO_FIPS==31\n",
        "df_cbg_clean = df_cbg_clean.drop(columns=['county','CO_FIPS','CountyName'])\n",
        "df_cbg_clean['Tract-CensusBlockGroup'] = '108031'+df_cbg_clean['Tract'].astype(str)+df_cbg_clean['CensusBlockGroup'].astype(str)\n",
        "df_cbg_clean.head()"
      ],
      "execution_count": 0,
      "outputs": [
        {
          "output_type": "stream",
          "text": [
            "/usr/local/lib/python3.6/dist-packages/ipykernel_launcher.py:5: SettingWithCopyWarning: \n",
            "A value is trying to be set on a copy of a slice from a DataFrame.\n",
            "Try using .loc[row_indexer,col_indexer] = value instead\n",
            "\n",
            "See the caveats in the documentation: http://pandas.pydata.org/pandas-docs/stable/indexing.html#indexing-view-versus-copy\n",
            "  \"\"\"\n"
          ],
          "name": "stderr"
        },
        {
          "output_type": "execute_result",
          "data": {
            "text/html": [
              "<div>\n",
              "<style scoped>\n",
              "    .dataframe tbody tr th:only-of-type {\n",
              "        vertical-align: middle;\n",
              "    }\n",
              "\n",
              "    .dataframe tbody tr th {\n",
              "        vertical-align: top;\n",
              "    }\n",
              "\n",
              "    .dataframe thead th {\n",
              "        text-align: right;\n",
              "    }\n",
              "</style>\n",
              "<table border=\"1\" class=\"dataframe\">\n",
              "  <thead>\n",
              "    <tr style=\"text-align: right;\">\n",
              "      <th></th>\n",
              "      <th>Tract</th>\n",
              "      <th>CensusBlockGroup</th>\n",
              "      <th>Geometry</th>\n",
              "      <th>Centroid</th>\n",
              "      <th>Lat</th>\n",
              "      <th>Lon</th>\n",
              "      <th>Tract-CensusBlockGroup</th>\n",
              "    </tr>\n",
              "  </thead>\n",
              "  <tbody>\n",
              "    <tr>\n",
              "      <th>1812</th>\n",
              "      <td>003601</td>\n",
              "      <td>4</td>\n",
              "      <td>(POLYGON ((-104.9634390000001 39.7657500000000...</td>\n",
              "      <td>POINT (-104.9659293039469 39.76695096702992)</td>\n",
              "      <td>39.766951</td>\n",
              "      <td>-104.965929</td>\n",
              "      <td>1080310036014</td>\n",
              "    </tr>\n",
              "    <tr>\n",
              "      <th>1813</th>\n",
              "      <td>002702</td>\n",
              "      <td>4</td>\n",
              "      <td>(POLYGON ((-104.9867450000001 39.7320400000000...</td>\n",
              "      <td>POINT (-104.9855038771376 39.7296613713856)</td>\n",
              "      <td>39.729661</td>\n",
              "      <td>-104.985504</td>\n",
              "      <td>1080310027024</td>\n",
              "    </tr>\n",
              "    <tr>\n",
              "      <th>1814</th>\n",
              "      <td>015600</td>\n",
              "      <td>3</td>\n",
              "      <td>(POLYGON ((-105.0250510000001 39.6749540000000...</td>\n",
              "      <td>POINT (-105.0203821298803 39.67522171545843)</td>\n",
              "      <td>39.675222</td>\n",
              "      <td>-105.020382</td>\n",
              "      <td>1080310156003</td>\n",
              "    </tr>\n",
              "    <tr>\n",
              "      <th>1815</th>\n",
              "      <td>002701</td>\n",
              "      <td>4</td>\n",
              "      <td>(POLYGON ((-104.9823000000001 39.7351520000000...</td>\n",
              "      <td>POINT (-104.9835506253264 39.73604168173959)</td>\n",
              "      <td>39.736042</td>\n",
              "      <td>-104.983551</td>\n",
              "      <td>1080310027014</td>\n",
              "    </tr>\n",
              "    <tr>\n",
              "      <th>1816</th>\n",
              "      <td>003601</td>\n",
              "      <td>5</td>\n",
              "      <td>(POLYGON ((-104.9684250000001 39.7657570000000...</td>\n",
              "      <td>POINT (-104.9708792307829 39.7669621567836)</td>\n",
              "      <td>39.766962</td>\n",
              "      <td>-104.970879</td>\n",
              "      <td>1080310036015</td>\n",
              "    </tr>\n",
              "  </tbody>\n",
              "</table>\n",
              "</div>"
            ],
            "text/plain": [
              "       Tract CensusBlockGroup  \\\n",
              "1812  003601                4   \n",
              "1813  002702                4   \n",
              "1814  015600                3   \n",
              "1815  002701                4   \n",
              "1816  003601                5   \n",
              "\n",
              "                                               Geometry  \\\n",
              "1812  (POLYGON ((-104.9634390000001 39.7657500000000...   \n",
              "1813  (POLYGON ((-104.9867450000001 39.7320400000000...   \n",
              "1814  (POLYGON ((-105.0250510000001 39.6749540000000...   \n",
              "1815  (POLYGON ((-104.9823000000001 39.7351520000000...   \n",
              "1816  (POLYGON ((-104.9684250000001 39.7657570000000...   \n",
              "\n",
              "                                          Centroid        Lat         Lon  \\\n",
              "1812  POINT (-104.9659293039469 39.76695096702992)  39.766951 -104.965929   \n",
              "1813   POINT (-104.9855038771376 39.7296613713856)  39.729661 -104.985504   \n",
              "1814  POINT (-105.0203821298803 39.67522171545843)  39.675222 -105.020382   \n",
              "1815  POINT (-104.9835506253264 39.73604168173959)  39.736042 -104.983551   \n",
              "1816   POINT (-104.9708792307829 39.7669621567836)  39.766962 -104.970879   \n",
              "\n",
              "     Tract-CensusBlockGroup  \n",
              "1812          1080310036014  \n",
              "1813          1080310027024  \n",
              "1814          1080310156003  \n",
              "1815          1080310027014  \n",
              "1816          1080310036015  "
            ]
          },
          "metadata": {
            "tags": []
          },
          "execution_count": 49
        }
      ]
    },
    {
      "metadata": {
        "id": "CGSX6aqYy4gT",
        "colab_type": "code",
        "colab": {}
      },
      "cell_type": "code",
      "source": [
        "# Saving the new merged file/checkpoint\n",
        "def write_checkpoint(df, dfname):\n",
        "  filename= dfname+time.strftime(\"%Y%m%d-%H%M\")+'.csv'\n",
        "  df.to_csv(filename, index=False)\n",
        "  return\n",
        "\n",
        "def read_checkpoint(filename):\n",
        "    return pd.read_csv(filename,index_col=0)\n",
        "  \n",
        "write_checkpoint(df_cbg_clean,workdir+'DenverCensusBlockGroup_Geoinfo')"
      ],
      "execution_count": 0,
      "outputs": []
    },
    {
      "metadata": {
        "id": "u0D4srvTUMFJ",
        "colab_type": "code",
        "colab": {}
      },
      "cell_type": "code",
      "source": [
        ""
      ],
      "execution_count": 0,
      "outputs": []
    }
  ]
}