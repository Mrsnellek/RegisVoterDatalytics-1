{
  "nbformat": 4,
  "nbformat_minor": 0,
  "metadata": {
    "colab": {
      "name": "Preparation_FeatureRemoval_MasterSheet",
      "version": "0.3.2",
      "provenance": []
    },
    "kernelspec": {
      "name": "python3",
      "display_name": "Python 3"
    }
  },
  "cells": [
    {
      "cell_type": "code",
      "metadata": {
        "id": "gzMHT0wovuns",
        "colab_type": "code",
        "outputId": "3174f5d0-7c75-4fa4-e536-22c3ad0f2343",
        "colab": {
          "base_uri": "https://localhost:8080/",
          "height": 122
        }
      },
      "source": [
        "## Initialize\n",
        "import numpy as np\n",
        "import pandas as pd\n",
        "import time\n",
        "from google.colab import drive\n",
        "drive.mount('/content/gdrive')"
      ],
      "execution_count": 0,
      "outputs": [
        {
          "output_type": "stream",
          "text": [
            "Go to this URL in a browser: https://accounts.google.com/o/oauth2/auth?client_id=947318989803-6bn6qk8qdgf4n4g3pfee6491hc0brc4i.apps.googleusercontent.com&redirect_uri=urn%3Aietf%3Awg%3Aoauth%3A2.0%3Aoob&scope=email%20https%3A%2F%2Fwww.googleapis.com%2Fauth%2Fdocs.test%20https%3A%2F%2Fwww.googleapis.com%2Fauth%2Fdrive%20https%3A%2F%2Fwww.googleapis.com%2Fauth%2Fdrive.photos.readonly%20https%3A%2F%2Fwww.googleapis.com%2Fauth%2Fpeopleapi.readonly&response_type=code\n",
            "\n",
            "Enter your authorization code:\n",
            "··········\n",
            "Mounted at /content/gdrive\n"
          ],
          "name": "stdout"
        }
      ]
    },
    {
      "cell_type": "code",
      "metadata": {
        "id": "aG9d0lhz3Wh9",
        "colab_type": "code",
        "outputId": "05088bba-a210-4b3c-9acb-bec9eada0a31",
        "colab": {
          "base_uri": "https://localhost:8080/",
          "height": 170
        }
      },
      "source": [
        "## Load data\n",
        "filename='gdrive/My Drive/Project/GoCode 2019/Go Code - Regis Voter/Data/Clean datasets/Denver_Voters_Master_2014-2019.csv'\n",
        "df = pd.read_csv(filename,dtype={'VoterID':str,'Tract-CensusBlock':str})\n",
        "\n",
        "### EDA with 2019 data separately to spot the data architecture\n",
        "print(df.shape,'\\n',df.tail())"
      ],
      "execution_count": 0,
      "outputs": [
        {
          "output_type": "stream",
          "text": [
            "(2720134, 26) \n",
            "                            Address  BirthYear  ...  Latitude Tract-CensusBlock\n",
            "2720129  CORNER OF XAVIER & COLFAX     1982.0  ...       NaN               NaN\n",
            "2720130  FEDERAL BLVD OCONNEL HALL     1991.0  ...       NaN               NaN\n",
            "2720131       LEETSDALE AND QUEBEC     1960.0  ...       NaN               NaN\n",
            "2720132             LOGAN & COLFAX     1969.0  ...       NaN               NaN\n",
            "2720133   PARK AVENUE AND BROADWAY     1964.0  ...       NaN               NaN\n",
            "\n",
            "[5 rows x 26 columns]\n"
          ],
          "name": "stdout"
        }
      ]
    },
    {
      "cell_type": "code",
      "metadata": {
        "id": "vcDcIz7G32Ay",
        "colab_type": "code",
        "outputId": "c225c4a3-07c1-4858-9802-81682209cdfe",
        "colab": {
          "base_uri": "https://localhost:8080/",
          "height": 343
        }
      },
      "source": [
        "## Keep only minimal and clean critical columns \n",
        "df['Gender'].replace(['Female','Male','Unknown'], ['F','M','U'],inplace=True)\n",
        "df['Party'].replace(['LBR', 'ACN', 'GRN', 'UNI', 'APV'], 'UAF',inplace=True) ## Simplified to focus on the main parties\n",
        "df['Age']=df['Year']-df['BirthYear']\n",
        "df_new = df[['Address','Age','Gender','Party','Status','VoterID','Year','PercentWhiteAlone','PercentBlackOrAfricanAmericanAlone','PercentAsianAndNativeHawaiianAndOtherPacificIslanderAlone','PercentAmericanIndianAndAlaskaNativeAlone','Percent2OrMoreRaces','PercentHispanicOrLatinoOrigin','Tract-CensusBlock']]\n",
        "df_2019 = df_new[df['Year']==2019]\n",
        "df_2019.head()"
      ],
      "execution_count": 0,
      "outputs": [
        {
          "output_type": "execute_result",
          "data": {
            "text/html": [
              "<div>\n",
              "<style scoped>\n",
              "    .dataframe tbody tr th:only-of-type {\n",
              "        vertical-align: middle;\n",
              "    }\n",
              "\n",
              "    .dataframe tbody tr th {\n",
              "        vertical-align: top;\n",
              "    }\n",
              "\n",
              "    .dataframe thead th {\n",
              "        text-align: right;\n",
              "    }\n",
              "</style>\n",
              "<table border=\"1\" class=\"dataframe\">\n",
              "  <thead>\n",
              "    <tr style=\"text-align: right;\">\n",
              "      <th></th>\n",
              "      <th>Address</th>\n",
              "      <th>Age</th>\n",
              "      <th>Gender</th>\n",
              "      <th>Party</th>\n",
              "      <th>Status</th>\n",
              "      <th>VoterID</th>\n",
              "      <th>Year</th>\n",
              "      <th>PercentWhiteAlone</th>\n",
              "      <th>PercentBlackOrAfricanAmericanAlone</th>\n",
              "      <th>PercentAsianAndNativeHawaiianAndOtherPacificIslanderAlone</th>\n",
              "      <th>PercentAmericanIndianAndAlaskaNativeAlone</th>\n",
              "      <th>Percent2OrMoreRaces</th>\n",
              "      <th>PercentHispanicOrLatinoOrigin</th>\n",
              "      <th>Tract-CensusBlock</th>\n",
              "    </tr>\n",
              "  </thead>\n",
              "  <tbody>\n",
              "    <tr>\n",
              "      <th>0</th>\n",
              "      <td>161 S GROVE ST</td>\n",
              "      <td>37.0</td>\n",
              "      <td>F</td>\n",
              "      <td>DEM</td>\n",
              "      <td>Active</td>\n",
              "      <td>72085.0</td>\n",
              "      <td>2019</td>\n",
              "      <td>70.16</td>\n",
              "      <td>22.76</td>\n",
              "      <td>1.23</td>\n",
              "      <td>0.980</td>\n",
              "      <td>2.310</td>\n",
              "      <td>2.55</td>\n",
              "      <td>1080310009032.0</td>\n",
              "    </tr>\n",
              "    <tr>\n",
              "      <th>1</th>\n",
              "      <td>44 N PEARL ST</td>\n",
              "      <td>80.0</td>\n",
              "      <td>F</td>\n",
              "      <td>REP</td>\n",
              "      <td>Active</td>\n",
              "      <td>72227.0</td>\n",
              "      <td>2019</td>\n",
              "      <td>83.77</td>\n",
              "      <td>11.22</td>\n",
              "      <td>0.53</td>\n",
              "      <td>0.720</td>\n",
              "      <td>1.680</td>\n",
              "      <td>2.08</td>\n",
              "      <td>1080310028034.0</td>\n",
              "    </tr>\n",
              "    <tr>\n",
              "      <th>2</th>\n",
              "      <td>8101 E MISSISSIPPI AVE</td>\n",
              "      <td>94.0</td>\n",
              "      <td>M</td>\n",
              "      <td>UAF</td>\n",
              "      <td>Active</td>\n",
              "      <td>72301.0</td>\n",
              "      <td>2019</td>\n",
              "      <td>94.86</td>\n",
              "      <td>1.71</td>\n",
              "      <td>0.00</td>\n",
              "      <td>0.715</td>\n",
              "      <td>0.715</td>\n",
              "      <td>2.00</td>\n",
              "      <td>1080310070883.0</td>\n",
              "    </tr>\n",
              "    <tr>\n",
              "      <th>3</th>\n",
              "      <td>7101 W YALE AVE</td>\n",
              "      <td>65.0</td>\n",
              "      <td>F</td>\n",
              "      <td>REP</td>\n",
              "      <td>Active</td>\n",
              "      <td>72305.0</td>\n",
              "      <td>2019</td>\n",
              "      <td>84.12</td>\n",
              "      <td>10.10</td>\n",
              "      <td>0.60</td>\n",
              "      <td>0.720</td>\n",
              "      <td>1.580</td>\n",
              "      <td>2.87</td>\n",
              "      <td>1080310119031.0</td>\n",
              "    </tr>\n",
              "    <tr>\n",
              "      <th>4</th>\n",
              "      <td>7101 W YALE AVE</td>\n",
              "      <td>65.0</td>\n",
              "      <td>M</td>\n",
              "      <td>REP</td>\n",
              "      <td>Active</td>\n",
              "      <td>72407.0</td>\n",
              "      <td>2019</td>\n",
              "      <td>84.12</td>\n",
              "      <td>10.10</td>\n",
              "      <td>0.60</td>\n",
              "      <td>0.720</td>\n",
              "      <td>1.580</td>\n",
              "      <td>2.87</td>\n",
              "      <td>1080310119031.0</td>\n",
              "    </tr>\n",
              "  </tbody>\n",
              "</table>\n",
              "</div>"
            ],
            "text/plain": [
              "                  Address  ...  Tract-CensusBlock\n",
              "0          161 S GROVE ST  ...    1080310009032.0\n",
              "1           44 N PEARL ST  ...    1080310028034.0\n",
              "2  8101 E MISSISSIPPI AVE  ...    1080310070883.0\n",
              "3         7101 W YALE AVE  ...    1080310119031.0\n",
              "4         7101 W YALE AVE  ...    1080310119031.0\n",
              "\n",
              "[5 rows x 14 columns]"
            ]
          },
          "metadata": {
            "tags": []
          },
          "execution_count": 30
        }
      ]
    },
    {
      "cell_type": "code",
      "metadata": {
        "id": "bslp1PA880C_",
        "colab_type": "code",
        "colab": {}
      },
      "source": [
        "df_new.to_csv('gdrive/My Drive/Project/GoCode 2019/Go Code - Regis Voter/Data/Clean datasets/Denver_Voters_Master_Compact_2014-2019.csv',index=False)\n",
        "df_2019.to_csv('gdrive/My Drive/Project/GoCode 2019/Go Code - Regis Voter/Data/Clean datasets/Denver_Voters_Master_Compact_2019.csv',index=False)"
      ],
      "execution_count": 0,
      "outputs": []
    }
  ]
}